{
 "cells": [
  {
   "cell_type": "code",
   "execution_count": 1,
   "metadata": {},
   "outputs": [],
   "source": [
    "%load_ext autoreload\n",
    "%autoreload 2"
   ]
  },
  {
   "cell_type": "code",
   "execution_count": 104,
   "metadata": {},
   "outputs": [],
   "source": [
    "import numpy as np\n",
    "import tensorflow as tf\n",
    "\n",
    "from utils import intersection_over_union"
   ]
  },
  {
   "cell_type": "code",
   "execution_count": 105,
   "metadata": {},
   "outputs": [],
   "source": [
    "ground_boxes  = np.tile([[1., 1., 3., 3.]], reps=[11, 1])"
   ]
  },
  {
   "cell_type": "code",
   "execution_count": 106,
   "metadata": {},
   "outputs": [],
   "source": [
    "test_boxes = np.array([\n",
    "    [0., 0., 3., 3.],\n",
    "    [2., 0., 3., 3.],\n",
    "    [2., 2., 3., 3.],\n",
    "    [0., 2., 3., 3.],\n",
    "    [0., 0., 5., 3.],\n",
    "    [0., 2., 5., 3.],\n",
    "    [0., 0., 3., 5.],\n",
    "    [2., 0., 3., 5.],\n",
    "    [0., 0., 5., 5.],\n",
    "    [1., 1., 3., 3.],\n",
    "    [5., 2., 3., 3.]\n",
    "])"
   ]
  },
  {
   "cell_type": "code",
   "execution_count": 107,
   "metadata": {},
   "outputs": [],
   "source": [
    "box_a = np.r_[test_boxes, ground_boxes]\n",
    "box_b = np.r_[ground_boxes, test_boxes]"
   ]
  },
  {
   "cell_type": "code",
   "execution_count": 108,
   "metadata": {},
   "outputs": [],
   "source": [
    "tf.reset_default_graph()"
   ]
  },
  {
   "cell_type": "code",
   "execution_count": 109,
   "metadata": {},
   "outputs": [],
   "source": [
    "box_a_tensor = tf.constant(box_a)\n",
    "box_b_tensor = tf.constant(box_b)"
   ]
  },
  {
   "cell_type": "code",
   "execution_count": 110,
   "metadata": {},
   "outputs": [],
   "source": [
    "results = intersection_over_union(box_a_tensor, box_b_tensor)"
   ]
  },
  {
   "cell_type": "code",
   "execution_count": 111,
   "metadata": {},
   "outputs": [],
   "source": [
    "init = tf.global_variables_initializer()\n",
    "\n",
    "with tf.Session() as sess:\n",
    "    \n",
    "    res = sess.run(results)"
   ]
  },
  {
   "cell_type": "code",
   "execution_count": 112,
   "metadata": {},
   "outputs": [
    {
     "data": {
      "text/plain": [
       "array([0.28571428, 0.28571428, 0.28571428, 0.28571428, 0.33333333,\n",
       "       0.33333333, 0.33333333, 0.33333333, 0.36      , 0.99999999,\n",
       "       0.        , 0.28571428, 0.28571428, 0.28571428, 0.28571428,\n",
       "       0.33333333, 0.33333333, 0.33333333, 0.33333333, 0.36      ,\n",
       "       0.99999999, 0.        ])"
      ]
     },
     "execution_count": 112,
     "metadata": {},
     "output_type": "execute_result"
    }
   ],
   "source": [
    "res"
   ]
  },
  {
   "cell_type": "code",
   "execution_count": 103,
   "metadata": {},
   "outputs": [
    {
     "data": {
      "text/plain": [
       "array([[ 9.,  9.],\n",
       "       [ 9.,  9.],\n",
       "       [ 9.,  9.],\n",
       "       [ 9.,  9.],\n",
       "       [15.,  9.],\n",
       "       [15.,  9.],\n",
       "       [15.,  9.],\n",
       "       [15.,  9.],\n",
       "       [25.,  9.],\n",
       "       [ 9.,  9.],\n",
       "       [ 9.,  9.],\n",
       "       [ 9.,  9.],\n",
       "       [ 9.,  9.],\n",
       "       [ 9.,  9.],\n",
       "       [ 9.,  9.],\n",
       "       [ 9., 15.],\n",
       "       [ 9., 15.],\n",
       "       [ 9., 15.],\n",
       "       [ 9., 15.],\n",
       "       [ 9., 25.],\n",
       "       [ 9.,  9.],\n",
       "       [ 9.,  9.]])"
      ]
     },
     "execution_count": 103,
     "metadata": {},
     "output_type": "execute_result"
    }
   ],
   "source": [
    "np.c_[area_a, area_b]"
   ]
  },
  {
   "cell_type": "code",
   "execution_count": null,
   "metadata": {},
   "outputs": [],
   "source": []
  }
 ],
 "metadata": {
  "kernelspec": {
   "display_name": "Bachelor-Thesis",
   "language": "python",
   "name": "bachelor-thesis"
  },
  "language_info": {
   "codemirror_mode": {
    "name": "ipython",
    "version": 3
   },
   "file_extension": ".py",
   "mimetype": "text/x-python",
   "name": "python",
   "nbconvert_exporter": "python",
   "pygments_lexer": "ipython3",
   "version": "3.6.5"
  }
 },
 "nbformat": 4,
 "nbformat_minor": 2
}
