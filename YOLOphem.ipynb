{
 "cells": [
  {
   "cell_type": "code",
   "execution_count": 1,
   "metadata": {
    "collapsed": true
   },
   "outputs": [],
   "source": [
    "%load_ext autoreload\n",
    "%autoreload 2"
   ]
  },
  {
   "cell_type": "code",
   "execution_count": 149,
   "metadata": {
    "collapsed": true
   },
   "outputs": [],
   "source": [
    "import tensorflow as tf\n",
    "import numpy as np\n",
    "\n",
    "from utils import reset\n",
    "from data import wider_face\n",
    "from yolophem import models\n",
    "from caps import utils"
   ]
  },
  {
   "cell_type": "code",
   "execution_count": 166,
   "metadata": {},
   "outputs": [
    {
     "name": "stdout",
     "output_type": "stream",
     "text": [
      "Tensor(\"conv1/Relu:0\", shape=(?, 221, 221, 256), dtype=float32)\n",
      "Tensor(\"primaryCaps/outputs/mul:0\", shape=(?, 221, 221, 32, 8), dtype=float32)\n",
      "Tensor(\"convCaps1/routing/outputs:0\", shape=(?, 109, 109, 16, 16), dtype=float32)\n",
      "Tensor(\"convCaps2/routing/outputs:0\", shape=(?, 53, 53, 16, 16), dtype=float32)\n",
      "Tensor(\"convCaps3/routing/outputs:0\", shape=(?, 25, 25, 8, 24), dtype=float32)\n",
      "Tensor(\"convCaps4/routing/outputs:0\", shape=(?, 11, 11, 8, 24), dtype=float32)\n",
      "Tensor(\"convCaps5/routing/outputs:0\", shape=(?, 9, 9, 3, 32), dtype=float32)\n",
      "Tensor(\"convCaps6/routing/outputs:0\", shape=(?, 7, 7, 3, 32), dtype=float32)\n"
     ]
    },
    {
     "data": {
      "text/plain": [
       "([<tf.Tensor 'X:0' shape=(?, 448, 448, 3) dtype=float32>,\n",
       "  <tf.Tensor 'y:0' shape=(?, 5) dtype=int64>],\n",
       " (<tf.Tensor 'predictions_out:0' shape=(?, 147, 4) dtype=float32>,\n",
       "  <tf.Tensor 'confidences_out:0' shape=(?, 147) dtype=float32>),\n",
       " <tf.Tensor 'loss/add_1:0' shape=() dtype=float32>)"
      ]
     },
     "execution_count": 166,
     "metadata": {},
     "output_type": "execute_result"
    }
   ],
   "source": [
    "reset()\n",
    "models.adapted(models.config_v1)"
   ]
  },
  {
   "cell_type": "code",
   "execution_count": 137,
   "metadata": {},
   "outputs": [
    {
     "name": "stdout",
     "output_type": "stream",
     "text": [
      "Tensor(\"conv1/Relu:0\", shape=(?, 221, 221, 256), dtype=float32)\n",
      "Tensor(\"primaryCaps/outputs/mul:0\", shape=(?, 221, 221, 32, 8), dtype=float32)\n",
      "Tensor(\"convCaps1/routing/outputs:0\", shape=(?, 109, 109, 16, 16), dtype=float32)\n",
      "Tensor(\"convCaps2/routing/outputs:0\", shape=(?, 53, 53, 16, 16), dtype=float32)\n",
      "Tensor(\"convCaps3/routing/outputs:0\", shape=(?, 25, 25, 8, 24), dtype=float32)\n",
      "Tensor(\"convCaps4/routing/outputs:0\", shape=(?, 11, 11, 8, 24), dtype=float32)\n",
      "Tensor(\"convCaps5/routing/outputs:0\", shape=(?, 9, 9, 3, 32), dtype=float32)\n",
      "Tensor(\"convCaps6/routing/outputs:0\", shape=(?, 7, 7, 3, 32), dtype=float32)\n"
     ]
    }
   ],
   "source": [
    "reset()\n",
    "[X, y], [predictions, confidences], loss = models.naive(models.config_v1, 4096)"
   ]
  },
  {
   "cell_type": "code",
   "execution_count": 143,
   "metadata": {},
   "outputs": [
    {
     "data": {
      "text/plain": [
       "<tf.Tensor 'X:0' shape=(?, 448, 448, 3) dtype=float32>"
      ]
     },
     "execution_count": 143,
     "metadata": {},
     "output_type": "execute_result"
    }
   ],
   "source": [
    "X"
   ]
  },
  {
   "cell_type": "code",
   "execution_count": 139,
   "metadata": {},
   "outputs": [
    {
     "data": {
      "text/plain": [
       "<tf.Tensor 'y:0' shape=(?, 5) dtype=int64>"
      ]
     },
     "execution_count": 139,
     "metadata": {},
     "output_type": "execute_result"
    }
   ],
   "source": [
    "y"
   ]
  },
  {
   "cell_type": "code",
   "execution_count": 140,
   "metadata": {},
   "outputs": [
    {
     "data": {
      "text/plain": [
       "<tf.Tensor 'predictions_out:0' shape=(?, 147, 4) dtype=float32>"
      ]
     },
     "execution_count": 140,
     "metadata": {},
     "output_type": "execute_result"
    }
   ],
   "source": [
    "predictions"
   ]
  },
  {
   "cell_type": "code",
   "execution_count": 141,
   "metadata": {},
   "outputs": [
    {
     "data": {
      "text/plain": [
       "<tf.Tensor 'confidences_out:0' shape=(?, 147) dtype=float32>"
      ]
     },
     "execution_count": 141,
     "metadata": {},
     "output_type": "execute_result"
    }
   ],
   "source": [
    "confidences"
   ]
  },
  {
   "cell_type": "code",
   "execution_count": 142,
   "metadata": {},
   "outputs": [
    {
     "data": {
      "text/plain": [
       "<tf.Tensor 'loss/add_1:0' shape=() dtype=float32>"
      ]
     },
     "execution_count": 142,
     "metadata": {},
     "output_type": "execute_result"
    }
   ],
   "source": [
    "loss"
   ]
  },
  {
   "cell_type": "code",
   "execution_count": null,
   "metadata": {
    "collapsed": true
   },
   "outputs": [],
   "source": []
  }
 ],
 "metadata": {
  "kernelspec": {
   "display_name": "Bachelor-Thesis",
   "language": "python",
   "name": "bachelor-thesis"
  },
  "language_info": {
   "codemirror_mode": {
    "name": "ipython",
    "version": 3
   },
   "file_extension": ".py",
   "mimetype": "text/x-python",
   "name": "python",
   "nbconvert_exporter": "python",
   "pygments_lexer": "ipython3",
   "version": "3.6.5"
  }
 },
 "nbformat": 4,
 "nbformat_minor": 2
}
