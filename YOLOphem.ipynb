{
 "cells": [
  {
   "cell_type": "code",
   "execution_count": 1,
   "metadata": {
    "collapsed": true
   },
   "outputs": [],
   "source": [
    "%load_ext autoreload\n",
    "%autoreload 2"
   ]
  },
  {
   "cell_type": "code",
   "execution_count": 129,
   "metadata": {
    "collapsed": true
   },
   "outputs": [],
   "source": [
    "import tensorflow as tf\n",
    "import numpy as np\n",
    "\n",
    "from utils import reset\n",
    "from data import wider_face\n",
    "from yolophem import models"
   ]
  },
  {
   "cell_type": "code",
   "execution_count": 130,
   "metadata": {},
   "outputs": [
    {
     "name": "stdout",
     "output_type": "stream",
     "text": [
      "Tensor(\"conv1/Relu:0\", shape=(?, 221, 221, 256), dtype=float32)\n",
      "Tensor(\"primaryCaps/outputs/mul:0\", shape=(?, 221, 221, 32, 8), dtype=float32)\n",
      "Tensor(\"convCaps1/routing/outputs:0\", shape=(?, 109, 109, 16, 16), dtype=float32)\n",
      "Tensor(\"convCaps2/routing/outputs:0\", shape=(?, 53, 53, 16, 16), dtype=float32)\n",
      "Tensor(\"convCaps3/routing/outputs:0\", shape=(?, 25, 25, 8, 24), dtype=float32)\n",
      "Tensor(\"convCaps4/routing/outputs:0\", shape=(?, 11, 11, 8, 24), dtype=float32)\n",
      "Tensor(\"convCaps5/routing/outputs:0\", shape=(?, 9, 9, 3, 32), dtype=float32)\n",
      "Tensor(\"convCaps6/routing/outputs:0\", shape=(?, 7, 7, 3, 32), dtype=float32)\n"
     ]
    }
   ],
   "source": [
    "reset()\n",
    "[X, y], [predictions, confidences], loss = models.naive(models.config_v1, 4096)"
   ]
  },
  {
   "cell_type": "code",
   "execution_count": null,
   "metadata": {
    "collapsed": true
   },
   "outputs": [],
   "source": []
  }
 ],
 "metadata": {
  "kernelspec": {
   "display_name": "Bachelor-Thesis",
   "language": "python",
   "name": "bachelor-thesis"
  },
  "language_info": {
   "codemirror_mode": {
    "name": "ipython",
    "version": 3
   },
   "file_extension": ".py",
   "mimetype": "text/x-python",
   "name": "python",
   "nbconvert_exporter": "python",
   "pygments_lexer": "ipython3",
   "version": "3.6.5"
  }
 },
 "nbformat": 4,
 "nbformat_minor": 2
}
