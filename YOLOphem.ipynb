{
 "cells": [
  {
   "cell_type": "code",
   "execution_count": 1,
   "metadata": {},
   "outputs": [],
   "source": [
    "%load_ext autoreload\n",
    "%autoreload 2"
   ]
  },
  {
   "cell_type": "code",
   "execution_count": 5,
   "metadata": {},
   "outputs": [],
   "source": [
    "import tensorflow as tf\n",
    "import numpy as np\n",
    "\n",
    "from utils import reset\n",
    "from caps import layers\n",
    "from yolophem import utils, losses"
   ]
  },
  {
   "cell_type": "code",
   "execution_count": 28,
   "metadata": {},
   "outputs": [],
   "source": [
    "IMG_SIZE = 448\n",
    "S = 7\n",
    "B = 3"
   ]
  },
  {
   "cell_type": "code",
   "execution_count": 34,
   "metadata": {},
   "outputs": [],
   "source": [
    "reset()\n",
    "\n",
    "predictions = tf.placeholder(shape=[None, S, S, B, 4], dtype=tf.float32, name=\"predictions\")\n",
    "confidences = tf.placeholder(shape=[None, S, S, B], dtype=tf.float32, name='confidences')\n",
    "labels_long = tf.placeholder(shape=[None, 5], dtype=tf.int64, name=\"labels\")"
   ]
  },
  {
   "cell_type": "code",
   "execution_count": 38,
   "metadata": {},
   "outputs": [
    {
     "data": {
      "text/plain": [
       "<tf.Tensor 'yolophem_loss_3/add_1:0' shape=() dtype=float32>"
      ]
     },
     "execution_count": 38,
     "metadata": {},
     "output_type": "execute_result"
    }
   ],
   "source": [
    "losses.yolophem_loss(predictions, confidences, labels_long, IMG_SIZE)"
   ]
  },
  {
   "cell_type": "code",
   "execution_count": 4,
   "metadata": {},
   "outputs": [],
   "source": [
    "sample_idx, labels = tf.split(labels_long, [1,4], axis=1)\n",
    "\n",
    "labels_centered = utils.center(labels, name='labels_centered')\n",
    "labels_localized, cell_idx = utils.localize(labels_centered, IMG_SIZE, S, name='labels_localized')\n",
    "\n",
    "predictions_selected = tf.gather_nd(predictions, tf.concat([sample_idx, cell_idx], axis=-1), name='predictions_selected')\n",
    "labels_localized_tiled = tf.tile(tf.reshape(labels_localized, [-1, 1, 4]), multiples=[1, B, 1], name='targets_localized_tiled')\n",
    "\n",
    "prediction_ious = utils.intersection_over_union(predictions_selected, labels_localized_tiled)\n",
    "predictor_idx = tf.reshape(tf.argmax(prediction_ious, axis=-1), [-1, 1])\n",
    "\n",
    "targets_idx = tf.concat([sample_idx, cell_idx, predictor_idx], axis=-1)\n",
    "\n",
    "batch_size = tf.shape(predictions)[0]\n",
    "targets_shape = tf.stack([tf.cast(batch_size, tf.int64), S, S, B, 4])\n",
    "mask_shape = tf.stack([tf.cast(batch_size, tf.int64), S, S, B, 1])\n",
    "\n",
    "targets = tf.scatter_nd(targets_idx, labels_localized, shape=targets_shape)\n",
    "responsibility_mask = tf.scatter_nd(targets_idx, tf.ones_like(sample_idx, dtype=tf.float32), shape=mask_shape)\n",
    "\n",
    "responsible_predictions = predictions * responsibility_mask\n",
    "box_losses = (responsible_predictions - targets) ** 2\n",
    "box_loss = tf.reduce_sum(box_losses)"
   ]
  },
  {
   "cell_type": "code",
   "execution_count": 352,
   "metadata": {},
   "outputs": [],
   "source": [
    "responsibility_mask_reshaped =tf.reshape(responsibility_mask, [-1, S, S, B])\n",
    "\n",
    "responsible_confidence_losses = responsibility_mask_reshaped * (confidences - utils.intersection_over_union(predictions, targets))\n",
    "irresponsible_confidence_losses = (1 - responsibility_mask_reshaped) * confidences"
   ]
  },
  {
   "cell_type": "code",
   "execution_count": 344,
   "metadata": {},
   "outputs": [
    {
     "data": {
      "text/plain": [
       "<tf.Tensor 'Sum:0' shape=() dtype=float32>"
      ]
     },
     "execution_count": 344,
     "metadata": {},
     "output_type": "execute_result"
    }
   ],
   "source": [
    "box_loss"
   ]
  },
  {
   "cell_type": "code",
   "execution_count": 331,
   "metadata": {},
   "outputs": [
    {
     "data": {
      "text/plain": [
       "<tf.Tensor 'ScatterNd:0' shape=(?, 5, 5, 3, 4) dtype=float32>"
      ]
     },
     "execution_count": 331,
     "metadata": {},
     "output_type": "execute_result"
    }
   ],
   "source": [
    "tf.scatter_nd(targets_idx, labels_localized, shape=shape)"
   ]
  },
  {
   "cell_type": "code",
   "execution_count": 188,
   "metadata": {},
   "outputs": [
    {
     "data": {
      "text/plain": [
       "<tf.Tensor 'GatherNd:0' shape=(?, 3, 4) dtype=float32>"
      ]
     },
     "execution_count": 188,
     "metadata": {},
     "output_type": "execute_result"
    }
   ],
   "source": [
    "tf.gather_nd(predictions, tf.concat([sample_idx, cell_idx], axis=-1))"
   ]
  },
  {
   "cell_type": "code",
   "execution_count": 14,
   "metadata": {},
   "outputs": [],
   "source": [
    "labels_np = np.array(\n",
    "    [\n",
    "        [0, 220, 110, 40, 80],\n",
    "        [0, 10, 19, 110, 70],\n",
    "        [1, 11, 119, 20, 20],\n",
    "        [1, 11, 123, 21, 21],\n",
    "        [2, 400, 400, 10, 10]\n",
    "    ]\n",
    ")"
   ]
  },
  {
   "cell_type": "code",
   "execution_count": 193,
   "metadata": {},
   "outputs": [
    {
     "name": "stdout",
     "output_type": "stream",
     "text": [
      "[[ True  True  True  True]\n",
      " [ True  True  True  True]\n",
      " [ True  True  True  True]\n",
      " [ True  True  True  True]\n",
      " [ True  True  True  True]]\n"
     ]
    }
   ],
   "source": [
    "init = tf.global_variables_initializer()\n",
    "\n",
    "with tf.Session() as sess:\n",
    "    \n",
    "    results = sess.run(\n",
    "        [test],\n",
    "        feed_dict={\n",
    "            predictions: np.zeros([3, S, S, B, 4]),\n",
    "            labels_long: labels_np\n",
    "        }\n",
    "    )\n",
    "    \n",
    "    for result in results:\n",
    "        print(result)"
   ]
  },
  {
   "cell_type": "code",
   "execution_count": 235,
   "metadata": {},
   "outputs": [],
   "source": [
    "box1 = np.array([[0,0,3,3]]).reshape([1,1,1,4])\n",
    "box2 = np.array([[2,2,3,3]]).reshape([1,1,1,4])"
   ]
  },
  {
   "cell_type": "code",
   "execution_count": 249,
   "metadata": {},
   "outputs": [],
   "source": [
    "reset()\n",
    "\n",
    "a = tf.constant(box1)\n",
    "b = tf.constant(box2)\n",
    "\n",
    "a_center = utils.center(a)\n",
    "b_center = utils.center(b)\n"
   ]
  },
  {
   "cell_type": "code",
   "execution_count": 250,
   "metadata": {},
   "outputs": [],
   "source": [
    "res = utils.intersection_over_union(a_center,b_center )"
   ]
  },
  {
   "cell_type": "code",
   "execution_count": 251,
   "metadata": {},
   "outputs": [
    {
     "name": "stdout",
     "output_type": "stream",
     "text": [
      "[[[0.05882353]]]\n"
     ]
    }
   ],
   "source": [
    "init = tf.global_variables_initializer()\n",
    "\n",
    "with tf.Session() as sess:\n",
    "    \n",
    "    results = sess.run(\n",
    "        [res],\n",
    "    )\n",
    "    \n",
    "    for result in results:\n",
    "        print(result)"
   ]
  },
  {
   "cell_type": "code",
   "execution_count": 252,
   "metadata": {},
   "outputs": [
    {
     "data": {
      "text/plain": [
       "0.058823529411764705"
      ]
     },
     "execution_count": 252,
     "metadata": {},
     "output_type": "execute_result"
    }
   ],
   "source": [
    "1/17"
   ]
  },
  {
   "cell_type": "code",
   "execution_count": null,
   "metadata": {},
   "outputs": [],
   "source": []
  }
 ],
 "metadata": {
  "kernelspec": {
   "display_name": "Bachelor-Thesis",
   "language": "python",
   "name": "bachelor-thesis"
  },
  "language_info": {
   "codemirror_mode": {
    "name": "ipython",
    "version": 3
   },
   "file_extension": ".py",
   "mimetype": "text/x-python",
   "name": "python",
   "nbconvert_exporter": "python",
   "pygments_lexer": "ipython3",
   "version": "3.6.5"
  }
 },
 "nbformat": 4,
 "nbformat_minor": 2
}
