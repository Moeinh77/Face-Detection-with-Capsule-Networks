{
 "cells": [
  {
   "cell_type": "markdown",
   "metadata": {},
   "source": [
    "## MNIST\n",
    "\n",
    "In this notebook, we want to reproduce the MNIST CapsNet from Hinton 2017."
   ]
  },
  {
   "cell_type": "markdown",
   "metadata": {},
   "source": [
    "## Setup"
   ]
  },
  {
   "cell_type": "code",
   "execution_count": 2,
   "metadata": {},
   "outputs": [],
   "source": [
    "# Imports\n",
    "%load_ext autoreload\n",
    "%autoreload 2"
   ]
  },
  {
   "cell_type": "code",
   "execution_count": 3,
   "metadata": {},
   "outputs": [
    {
     "name": "stderr",
     "output_type": "stream",
     "text": [
      "/usr/local/lib/python3.5/dist-packages/h5py/__init__.py:36: FutureWarning: Conversion of the second argument of issubdtype from `float` to `np.floating` is deprecated. In future, it will be treated as `np.float64 == np.dtype(float).type`.\n",
      "  from ._conv import register_converters as _register_converters\n"
     ]
    }
   ],
   "source": [
    "from os.path import join\n",
    "\n",
    "import numpy as np\n",
    "import tensorflow as tf\n",
    "%matplotlib inline\n",
    "\n",
    "from caps import layers, losses\n",
    "from data import mnist, utils\n",
    "from utils import evaluate, reset, new_experiment, Logger"
   ]
  },
  {
   "cell_type": "code",
   "execution_count": 4,
   "metadata": {},
   "outputs": [],
   "source": [
    "reset()"
   ]
  },
  {
   "cell_type": "markdown",
   "metadata": {},
   "source": [
    "## MNIST Dataset"
   ]
  },
  {
   "cell_type": "code",
   "execution_count": 5,
   "metadata": {},
   "outputs": [],
   "source": [
    "train_data, val_data, test_data = mnist.load_data(force=True)"
   ]
  },
  {
   "cell_type": "code",
   "execution_count": 6,
   "metadata": {},
   "outputs": [
    {
     "data": {
      "image/png": "[encoded data removed]",
      "text/plain": [
       "<Figure size 720x216 with 5 Axes>"
      ]
     },
     "metadata": {},
     "output_type": "display_data"
    }
   ],
   "source": [
    "utils.peek(train_data)"
   ]
  },
  {
   "cell_type": "code",
   "execution_count": 7,
   "metadata": {},
   "outputs": [
    {
     "data": {
      "image/png": "[encoded data removed]",
      "text/plain": [
       "<Figure size 720x216 with 5 Axes>"
      ]
     },
     "metadata": {},
     "output_type": "display_data"
    }
   ],
   "source": [
    "utils.peek(val_data)"
   ]
  },
  {
   "cell_type": "markdown",
   "metadata": {},
   "source": [
    "## CapsNet model"
   ]
  },
  {
   "cell_type": "code",
   "execution_count": 10,
   "metadata": {},
   "outputs": [],
   "source": [
    "reset()\n",
    "\n",
    "## Inputs\n",
    "X = tf.placeholder(shape=[None, 28, 28, 1], dtype=tf.float32, name=\"X\")\n",
    "y = tf.placeholder(shape=[None], dtype=tf.int64, name=\"y\")\n",
    "y_one_hot = tf.one_hot(y, depth=10, name=\"y_one_hot\")\n",
    "\n",
    "## Model\n",
    "conv1 = tf.layers.conv2d(\n",
    "    X, \n",
    "    filters=256,\n",
    "    kernel_size=9,\n",
    "    strides=1,\n",
    "    padding=\"valid\",\n",
    "    name=\"conv1\"\n",
    ")\n",
    "\n",
    "primaryCaps = layers.primaryCaps(\n",
    "    conv1, \n",
    "    caps=32, \n",
    "    dims=8,\n",
    "    kernel_size=9,\n",
    "    strides=2,\n",
    "    name=\"primaryCaps\"\n",
    ")\n",
    "\n",
    "digitCaps = layers.denseCaps(\n",
    "    primaryCaps, \n",
    "    caps=10, \n",
    "    dims=16\n",
    ")\n",
    "\n",
    "\n",
    "probabilities = layers.norm(digitCaps, axis=-1, name=\"probabilities\")\n",
    "margin_loss = losses.margin_loss(y_one_hot, probabilities, name=\"margin_loss\")\n",
    "\n",
    "\n",
    "predictions = tf.argmax(probabilities, axis=-1, name=\"predictions\")\n",
    "with tf.variable_scope(\"accuracy\"):\n",
    "    correct = tf.equal(y, predictions, name=\"correct\")\n",
    "    accuracy = tf.reduce_mean(tf.cast(correct, tf.float32), name=\"accuracy\")\n",
    "    \n",
    "\n",
    "with tf.variable_scope(\"reconstructions\"):\n",
    "    mask_with_labels = tf.placeholder_with_default(False, shape=(), name=\"mask_with_labels\")\n",
    "\n",
    "    reconstruction_targets = tf.cond(mask_with_labels,\n",
    "                                     lambda: y,\n",
    "                                     lambda: predictions,\n",
    "                                     name=\"reconstruction_targets\")\n",
    "\n",
    "    reconstructions = layers.denseDecoder(digitCaps, reconstruction_targets, [512, 1024, 28*28], name=\"reconstructions\")\n",
    "    \n",
    "reconstruction_loss = losses.reconstruction_loss(X, reconstructions, name='reconstruction_loss')\n",
    "\n",
    "alpha = tf.constant(0.0005, name='alpha')\n",
    "loss = margin_loss + alpha * reconstruction_loss"
   ]
  },
  {
   "cell_type": "code",
   "execution_count": null,
   "metadata": {},
   "outputs": [
    {
     "name": "stdout",
     "output_type": "stream",
     "text": [
      "[Epoch 1/20]\n",
      "Train | Average Accuracy: 89.6493% Loss: 0.129854                                                  \n",
      "Validation | Average Accuracy: 96.2632% Loss: 0.050236                                                  \n",
      "[Epoch 2/20]\n",
      "Train | Iteration 40/122 (32.8%) | Batch Accuracy: 95.5357% Loss: 0.052459"
     ]
    }
   ],
   "source": [
    "optimizer = tf.train.AdamOptimizer()\n",
    "train_step  = optimizer.minimize(loss, name=\"training_op\")\n",
    "\n",
    "init = tf.global_variables_initializer()\n",
    "\n",
    "batch_size = 448\n",
    "num_epochs = 20\n",
    "                                    \n",
    "logdir = new_experiment(root_logdir=join('./experiments', 'mnist'))\n",
    "logger = Logger(logdir)\n",
    "\n",
    "checkpoint_path = join(logdir, 'parameters')\n",
    "saver = tf.train.Saver()\n",
    "    \n",
    "\n",
    "def train_hook(session, iteration, iterations, loss, accuracy):\n",
    "    return '\\rTrain | Iteration {}/{} ({:.1f}%) | Batch Accuracy: {:.4f}% Loss: {:.6f}'.format(\n",
    "        iteration,\n",
    "        iterations,\n",
    "        iteration * 100 / iterations,\n",
    "        accuracy * 100,\n",
    "        loss\n",
    "    )\n",
    "\n",
    "def validation_hook(session, iteration, iterations, loss, accuracy):\n",
    "    return '\\rValidation | Iteration {}/{} ({:.1f}%) | Batch Accuracy: {:.4f}% Loss: {:.6f}'.format(\n",
    "        iteration,\n",
    "        iterations,\n",
    "        iteration * 100 / iterations,\n",
    "        accuracy * 100,\n",
    "        loss\n",
    "    )\n",
    "\n",
    "with tf.Session(config=tf.ConfigProto(log_device_placement=True)) as sess:\n",
    "    init.run()\n",
    "    \n",
    "    best_val_loss = np.infty\n",
    "    \n",
    "    for epoch in range(num_epochs):\n",
    "        print('[Epoch {}/{}]'.format(epoch + 1, num_epochs))\n",
    "        \n",
    "        # TRAINING PHASE\n",
    "        train_loss, train_accuracy = evaluate(\n",
    "            session=sess,         \n",
    "            inputs=[X, y], \n",
    "            dataset=train_data,\n",
    "            train_step=train_step,\n",
    "            batch_size=batch_size,\n",
    "            feed_dict={mask_with_labels: True},\n",
    "            metrics=[loss, accuracy],\n",
    "            report_every=10,\n",
    "            report_hook=train_hook\n",
    "        )\n",
    "        \n",
    "        print(\n",
    "            '\\rTrain | Average Accuracy: {:.4f}% Loss: {:.6f}'.format(\n",
    "                train_accuracy * 100,\n",
    "                train_loss\n",
    "            ), \n",
    "            end=\" \" * 50 + \"\\n\"\n",
    "        )\n",
    "        \n",
    "        logger.add('train_loss', train_loss, epoch)\n",
    "        logger.add('train_accuracy', train_accuracy, epoch)\n",
    "        \n",
    "        # VALIDATION PHASE\n",
    "        val_loss, val_accuracy = evaluate(\n",
    "            session=sess,         \n",
    "            inputs=[X, y], \n",
    "            dataset=val_data,\n",
    "            batch_size=batch_size,\n",
    "            metrics=[loss, accuracy],\n",
    "            report_every=10,\n",
    "            report_hook=validation_hook\n",
    "        )\n",
    "        \n",
    "        print(\n",
    "            '\\rValidation | Average Accuracy: {:.4f}% Loss: {:.6f}'.format(\n",
    "                val_accuracy * 100,\n",
    "                val_loss\n",
    "            ), \n",
    "            end=\" \" * 50 + \"\\n\"\n",
    "        )\n",
    "        \n",
    "        logger.add('val_loss', val_loss, epoch)\n",
    "        logger.add('val_accuracy', val_accuracy, epoch)\n",
    "        \n",
    "        if val_loss < best_val_loss:\n",
    "            saver.save(sess, checkpoint_path)\n",
    "            best_val_loss = val_loss\n",
    "\n",
    "    logger.write()"
   ]
  },
  {
   "cell_type": "code",
   "execution_count": null,
   "metadata": {
    "collapsed": true
   },
   "outputs": [],
   "source": [
    "# Testing\n",
    "\n",
    "# Uncomment the line below to re-test other experiments\n",
    "# checkpoint_path = '...'\n",
    "\n",
    "def test_hook(session, iteration, iterations, accuracy):\n",
    "    return '\\rEvaluation | Iteration {}/{} ({:.1f}%)'.format(\n",
    "        iteration,\n",
    "        iterations,\n",
    "        iteration * 100 / iterations\n",
    "    )\n",
    "\n",
    "with tf.Session() as sess:\n",
    "    saver.restore(sess, checkpoint_path)\n",
    "    \n",
    "    test_accuracy = evaluate(\n",
    "            session=sess,         \n",
    "            inputs=[X, y], \n",
    "            dataset=test_data,\n",
    "            batch_size=batch_size,\n",
    "            metrics=[accuracy],\n",
    "            report_every=10,\n",
    "            report_hook=test_hook\n",
    "        )\n",
    "    \n",
    "    print(\"\\rEvaluation | Accuracy: {:.4f}%\".format(test_accuracy * 100), end=\" \" * 50 + \"\\n\")"
   ]
  },
  {
   "cell_type": "code",
   "execution_count": 63,
   "metadata": {},
   "outputs": [
    {
     "name": "stdout",
     "output_type": "stream",
     "text": [
      "INFO:tensorflow:Restoring parameters from ./experiments/mnist/2018-06-13_15-22-58/parameters\n"
     ]
    }
   ],
   "source": [
    "# Predictions\n",
    "\n",
    "num_samples = 2\n",
    "sample_images, sample_labels = next(train_data.batch(num_samples))\n",
    "\n",
    "with tf.Session() as sess:\n",
    "    saver.restore(sess, checkpoint_path)\n",
    "    \n",
    "    digitCaps_output, reconstructions_output, predictions_output = sess.run(\n",
    "        [digitCaps, reconstructions, predictions],\n",
    "        feed_dict={\n",
    "            X: sample_images,\n",
    "            y: np.array([], dtype=np.int64) # will not be used\n",
    "        },\n",
    "    )"
   ]
  },
  {
   "cell_type": "code",
   "execution_count": 64,
   "metadata": {},
   "outputs": [
    {
     "data": {
      "image/png": "[encoded data removed]",
      "text/plain": [
       "<Figure size 288x216 with 2 Axes>"
      ]
     },
     "metadata": {},
     "output_type": "display_data"
    },
    {
     "data": {
      "image/png": "[encoded data removed]",
      "text/plain": [
       "<Figure size 288x216 with 2 Axes>"
      ]
     },
     "metadata": {},
     "output_type": "display_data"
    }
   ],
   "source": [
    "sample_images = sample_images.reshape([-1, 28, 28])\n",
    "reconstructions_output = reconstructions_output.reshape([-1, 28, 28])\n",
    "\n",
    "plt.figure(figsize=(num_samples * 2, 3))\n",
    "for index in range(num_samples):\n",
    "    plt.subplot(1, num_samples, index + 1)\n",
    "    plt.imshow(sample_images[index], cmap=\"binary\")\n",
    "    plt.title(\"Label:\" + str(sample_labels[index]))\n",
    "    plt.axis(\"off\")\n",
    "\n",
    "plt.show()\n",
    "\n",
    "plt.figure(figsize=(num_samples * 2, 3))\n",
    "for index in range(num_samples):\n",
    "    plt.subplot(1, num_samples, index + 1)\n",
    "    plt.imshow(reconstructions_output[index], cmap=\"binary\")\n",
    "    plt.title(\"Predicted:\" + str(predictions_output[index]))\n",
    "    plt.axis(\"off\")"
   ]
  },
  {
   "cell_type": "code",
   "execution_count": null,
   "metadata": {
    "collapsed": true
   },
   "outputs": [],
   "source": []
  }
 ],
 "metadata": {
  "kernelspec": {
   "display_name": "Python 3",
   "language": "python",
   "name": "python3"
  }
 },
 "nbformat": 4,
 "nbformat_minor": 2
}
