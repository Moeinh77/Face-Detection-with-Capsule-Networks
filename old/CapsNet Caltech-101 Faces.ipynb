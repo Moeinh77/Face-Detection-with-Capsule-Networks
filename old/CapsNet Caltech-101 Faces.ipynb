{
 "cells": [
  {
   "cell_type": "code",
   "execution_count": 1,
   "metadata": {},
   "outputs": [],
   "source": [
    "%load_ext autoreload\n",
    "%autoreload 2"
   ]
  },
  {
   "cell_type": "code",
   "execution_count": 2,
   "metadata": {},
   "outputs": [],
   "source": [
    "%matplotlib inline\n",
    "\n",
    "import matplotlib\n",
    "import matplotlib.pyplot as plt"
   ]
  },
  {
   "cell_type": "code",
   "execution_count": 14,
   "metadata": {},
   "outputs": [],
   "source": [
    "from datetime import datetime\n",
    "\n",
    "import numpy as np\n",
    "import tensorflow as tf\n",
    "\n",
    "import layers\n",
    "import losses\n",
    "from data import caltech_101\n",
    "from utils import batch, norm"
   ]
  },
  {
   "cell_type": "code",
   "execution_count": 15,
   "metadata": {},
   "outputs": [],
   "source": [
    "np.random.seed(42)\n",
    "tf.set_random_seed(42)"
   ]
  },
  {
   "cell_type": "code",
   "execution_count": 16,
   "metadata": {
    "scrolled": false
   },
   "outputs": [
    {
     "name": "stdout",
     "output_type": "stream",
     "text": [
      "Extracting... Done!\n"
     ]
    }
   ],
   "source": [
    "(X_train, y_train), (X_val, y_val), (X_test, y_test) = caltech_101.load_data(force=True)"
   ]
  },
  {
   "cell_type": "code",
   "execution_count": 17,
   "metadata": {},
   "outputs": [],
   "source": [
    "IMG_SIZE = 64"
   ]
  },
  {
   "cell_type": "code",
   "execution_count": 18,
   "metadata": {},
   "outputs": [],
   "source": [
    "X_max = X_train.max()\n",
    "X_min = X_train.min()\n",
    "\n",
    "X_train = (X_train - X_min)/(X_max - X_min)\n",
    "X_val = (X_val - X_min)/(X_max - X_min)\n",
    "X_test = (X_test - X_min)/(X_max - X_min)"
   ]
  },
  {
   "cell_type": "code",
   "execution_count": 19,
   "metadata": {},
   "outputs": [
    {
     "data": {
      "text/plain": [
       "<matplotlib.image.AxesImage at 0x7f76ac417eb8>"
      ]
     },
     "execution_count": 19,
     "metadata": {},
     "output_type": "execute_result"
    },
    {
     "data": {
      "image/png": "[encoded data removed]",
      "text/plain": [
       "<Figure size 432x288 with 1 Axes>"
      ]
     },
     "metadata": {},
     "output_type": "display_data"
    }
   ],
   "source": [
    "plt.imshow(X_test[0].reshape(IMG_SIZE, IMG_SIZE), cmap=\"gray\")"
   ]
  },
  {
   "cell_type": "code",
   "execution_count": 20,
   "metadata": {},
   "outputs": [
    {
     "name": "stdout",
     "output_type": "stream",
     "text": [
      "1.0\n"
     ]
    }
   ],
   "source": [
    "print(y_train[1])"
   ]
  },
  {
   "cell_type": "code",
   "execution_count": 21,
   "metadata": {},
   "outputs": [],
   "source": [
    "# TensorBoard logging\n",
    "ROOT_LOGDIR = \"face_capsnet_logs\"\n",
    "\n",
    "def log_run():\n",
    "    now = datetime.utcnow().strftime(\"%Y%m%d%H%M%S\")\n",
    "    logdir = \"{}/run-{}\".format(ROOT_LOGDIR, now)\n",
    "    \n",
    "    return logdir"
   ]
  },
  {
   "cell_type": "markdown",
   "metadata": {},
   "source": [
    "## Model"
   ]
  },
  {
   "cell_type": "code",
   "execution_count": 26,
   "metadata": {},
   "outputs": [],
   "source": [
    "tf.reset_default_graph()\n",
    "\n",
    "X = tf.placeholder(shape=[None, IMG_SIZE, IMG_SIZE, 1], dtype=tf.float32, name=\"X\")\n",
    "y = tf.placeholder(shape=[None], dtype=tf.int64, name=\"y\")\n",
    "y_one_hot = tf.one_hot(y, depth=2, name=\"y_one_hot\")\n",
    "\n",
    "\n",
    "conv1 = tf.layers.conv2d(\n",
    "    X,\n",
    "    filters=256,\n",
    "    kernel_size=9,\n",
    "    strides=1,\n",
    "    padding=\"valid\",\n",
    "    name=\"conv1\"\n",
    ")\n",
    "\n",
    "\n",
    "primaryCaps = layers.primaryCaps(\n",
    "    conv1,\n",
    "    caps=32,\n",
    "    dims = 8,\n",
    "    kernel_size= 9,\n",
    "    strides= 2,\n",
    "    name=\"primaryCaps\"\n",
    ")\n",
    "\n",
    "outputCaps = layers.denseCaps(\n",
    "    primaryCaps,\n",
    "    caps=2,\n",
    "    dims=16\n",
    ")\n",
    "\n",
    "probabilities = norm(outputCaps, axis=-1, name=\"probabilities\")\n",
    "loss = losses.margin_loss(y_one_hot, probabilities, name=\"loss\")\n",
    "\n",
    "predictions = tf.argmax(probabilities, axis=-1, name=\"predictions\")\n",
    "with tf.variable_scope(\"accuracy\"):\n",
    "    correct = tf.equal(y, predictions, name=\"correct\")\n",
    "    accuracy = tf.reduce_mean(tf.cast(correct, tf.float32), name=\"accuracy\")\n",
    "\n",
    "train_loss_summary = tf.summary.scalar(\"train_loss\", loss)\n",
    "train_accuracy_summary = tf.summary.scalar(\"train_accuracy\", accuracy)\n",
    "train_summaries = tf.summary.merge([train_loss_summary, train_accuracy_summary])\n",
    "\n",
    "validation_loss_summary = tf.summary.scalar(\"validation_loss\", loss)\n",
    "validation_accuracy_summary = tf.summary.scalar(\"validation_accuracy\", accuracy)\n",
    "validation_summaries = tf.summary.merge([validation_loss_summary, validation_accuracy_summary])\n",
    "\n",
    "test_loss_summary = tf.summary.scalar(\"test_loss\", loss)\n",
    "test_accuracy_summary = tf.summary.scalar(\"test_accuracy\", accuracy)\n",
    "test_summaries = tf.summary.merge([test_loss_summary, test_accuracy_summary])"
   ]
  },
  {
   "cell_type": "code",
   "execution_count": 27,
   "metadata": {},
   "outputs": [
    {
     "name": "stdout",
     "output_type": "stream",
     "text": [
      "[Epoch 1/2]\n",
      "Train | Average Accuracy: 91.7582% Loss: 0.094137                              \n",
      "Validation | Average Accuracy: 100.0000% Loss: 0.030041                              \n",
      "[Epoch 2/2]\n",
      "Train | Average Accuracy: 99.2674% Loss: 0.021378                              \n",
      "Validation | Average Accuracy: 100.0000% Loss: 0.015153                              \n"
     ]
    }
   ],
   "source": [
    "logdir = log_run()\n",
    "file_writer = tf.summary.FileWriter(logdir, tf.get_default_graph())\n",
    "\n",
    "optimizer = tf.train.AdamOptimizer(1e-4)\n",
    "\n",
    "# TODO gradients?\n",
    "training_op = optimizer.minimize(loss, name=\"training_op\")\n",
    "\n",
    "init = tf.global_variables_initializer()\n",
    "saver = tf.train.Saver()\n",
    "\n",
    "num_epochs = 2\n",
    "batch_size = 12\n",
    "checkpoint_path = './capsnet_face_save'\n",
    "\n",
    "train_iterations_per_epoch = len(X_train) // batch_size\n",
    "validation_iterations_per_epoch = len(X_val) // batch_size\n",
    "\n",
    "best_validation_loss = np.infty\n",
    "\n",
    "with tf.Session() as sess:\n",
    "    init.run()\n",
    "    \n",
    "    for epoch in range(num_epochs):        \n",
    "        print('[Epoch {}/{}]'.format(epoch + 1, num_epochs))\n",
    "        \n",
    "        # TRAIN\n",
    "        train_losses = []\n",
    "        train_accuracies = []\n",
    "        \n",
    "        for iteration, (X_batch, y_batch) in enumerate(batch(X_train, y_train, batch_size=batch_size)):\n",
    "        \n",
    "            training_op.run(\n",
    "                feed_dict={\n",
    "                    X: X_batch.reshape([-1, IMG_SIZE, IMG_SIZE, 1]),\n",
    "                    y: y_batch.reshape([-1])\n",
    "                }\n",
    "            )\n",
    "            \n",
    "            train_loss, train_accuracy = sess.run(\n",
    "                [loss, accuracy],\n",
    "                feed_dict={\n",
    "                    X: X_batch.reshape([-1, IMG_SIZE, IMG_SIZE, 1]),\n",
    "                    y: y_batch.reshape([-1])\n",
    "                }\n",
    "            )\n",
    "        \n",
    "            train_losses.append(train_loss)\n",
    "            train_accuracies.append(train_accuracy)\n",
    "            \n",
    "            if (iteration + 1) % 10 == 0:\n",
    "                print('\\rTrain | Iteration {}/{} ({:.1f}%) | Batch Accuracy: {:.4f}% Loss: {:.6f}'.format(\n",
    "                    iteration + 1,\n",
    "                    train_iterations_per_epoch,\n",
    "                    (iteration + 1) * 100 /train_iterations_per_epoch,\n",
    "                    train_accuracy * 100,\n",
    "                    train_loss\n",
    "                ), \n",
    "                end=\"\")\n",
    "                \n",
    "                train_summary_str = train_summaries.eval(\n",
    "                    feed_dict={\n",
    "                        X: X_batch.reshape([-1, IMG_SIZE, IMG_SIZE, 1]),\n",
    "                        y: y_batch.reshape([-1])\n",
    "                    }\n",
    "                )\n",
    "                \n",
    "                file_writer.add_summary(train_summary_str, epoch*train_iterations_per_epoch + iteration)\n",
    "            \n",
    "        avg_train_loss = np.mean(train_losses)\n",
    "        avg_train_accuracy = np.mean(train_accuracies)\n",
    "        \n",
    "        print('\\rTrain | Average Accuracy: {:.4f}% Loss: {:.6f}'.format(\n",
    "            avg_train_accuracy * 100,\n",
    "            avg_train_loss), \n",
    "        end=\" \" * 30 + \"\\n\")\n",
    "        \n",
    "        \n",
    "        # VALIDATE\n",
    "        validation_losses = []\n",
    "        validation_accuracies = []\n",
    "        \n",
    "        for iteration, (X_batch, y_batch) in enumerate(batch(X_val, y_val, batch_size=batch_size)):\n",
    "            \n",
    "            validation_loss, validation_accuracy = sess.run(\n",
    "                [loss, accuracy],\n",
    "                feed_dict={\n",
    "                    X: X_batch.reshape([-1, IMG_SIZE, IMG_SIZE, 1]),\n",
    "                    y: y_batch.reshape([-1])\n",
    "                }\n",
    "            )\n",
    "            \n",
    "            validation_losses.append(validation_loss)\n",
    "            validation_accuracies.append(validation_accuracy)\n",
    "            \n",
    "            if (iteration + 1) % 5 == 0:\n",
    "                print('\\rValidation | Iteration {}/{} ({:.1f}%) | Batch Accuracy: {:.4f}% Loss: {:.6f}'.format(\n",
    "                    iteration + 1,\n",
    "                    validation_iterations_per_epoch,\n",
    "                    (iteration + 1) * 100 / validation_iterations_per_epoch,\n",
    "                    validation_accuracy * 100,\n",
    "                    validation_loss\n",
    "                ), \n",
    "                end=\"\")\n",
    "                \n",
    "                validation_summary_str = validation_summaries.eval(\n",
    "                    feed_dict={\n",
    "                        X: X_batch.reshape([-1, IMG_SIZE, IMG_SIZE, 1]),\n",
    "                        y: y_batch.reshape([-1])\n",
    "                    }\n",
    "                )\n",
    "                \n",
    "                file_writer.add_summary(validation_summary_str, epoch*validation_iterations_per_epoch + iteration)\n",
    "            \n",
    "        avg_validation_loss = np.mean(validation_losses)\n",
    "        avg_validation_accuracy = np.mean(validation_accuracies)\n",
    "        \n",
    "        print('\\rValidation | Average Accuracy: {:.4f}% Loss: {:.6f}'.format(\n",
    "            avg_validation_accuracy * 100,\n",
    "            avg_validation_loss), \n",
    "        end=\" \" * 30 + \"\\n\")\n",
    "        \n",
    "        if avg_validation_loss < best_validation_loss:\n",
    "            saver.save(sess, checkpoint_path)\n",
    "            best_validation_loss = avg_validation_loss"
   ]
  },
  {
   "cell_type": "code",
   "execution_count": 65,
   "metadata": {},
   "outputs": [
    {
     "name": "stdout",
     "output_type": "stream",
     "text": [
      "INFO:tensorflow:Restoring parameters from ./capsnet_face_save\n",
      "(12, 4096) (12,)\n",
      "Evaluation | Iteration 1/8 (12.5%)                              (12, 4096) (12,)\n",
      "Evaluation | Iteration 2/8 (25.0%)                              (12, 4096) (12,)\n",
      "Evaluation | Iteration 3/8 (37.5%)                              (12, 4096) (12,)\n",
      "Evaluation | Iteration 4/8 (50.0%)                              (12, 4096) (12,)\n",
      "Evaluation | Iteration 5/8 (62.5%)                              (12, 4096) (12,)\n",
      "Evaluation | Iteration 6/8 (75.0%)                              (12, 4096) (12,)\n",
      "Evaluation | Iteration 7/8 (87.5%)                              (12, 4096) (12,)\n",
      "Evaluation | Iteration 8/8 (100.0%)                              (4, 4096) (4,)\n",
      "Evaluation | Accuracy: 98.1482% Loss: 0.024869                   \n"
     ]
    }
   ],
   "source": [
    "# TEST\n",
    "\n",
    "test_iterations = len(X_test) // batch_size\n",
    "\n",
    "with tf.Session() as sess:\n",
    "    saver.restore(sess, checkpoint_path)\n",
    "    \n",
    "    test_losses = []\n",
    "    test_accuracies = []\n",
    "    \n",
    "    for iteration, (X_batch, y_batch) in enumerate(batch(X_test, y_test, batch_size)):\n",
    "        print(X_batch.shape, y_batch.shape)\n",
    "        \n",
    "        test_loss, test_accuracy = sess.run(\n",
    "            [loss, accuracy],\n",
    "            feed_dict={\n",
    "                X: X_batch.reshape([-1, IMG_SIZE, IMG_SIZE, 1]),\n",
    "                y: y_batch.reshape([-1])\n",
    "            }\n",
    "        )\n",
    "        \n",
    "        test_losses.append(test_loss)\n",
    "        test_accuracies.append(test_accuracy)\n",
    "        \n",
    "        print(\"\\rEvaluation | Iteration {}/{} ({:.1f}%)\".format(\n",
    "            iteration + 1, \n",
    "            test_iterations, \n",
    "            (iteration + 1) * 100/test_iterations),\n",
    "             end=\" \" * 30\n",
    "        )\n",
    "        \n",
    "    avg_test_loss = np.mean(test_losses)\n",
    "    avg_test_accuracy = np.mean(test_accuracies)\n",
    "    \n",
    "    print(\"\\rEvaluation | Accuracy: {:.4f}% Loss: {:.6f}\".format(avg_test_accuracy * 100, avg_test_loss))"
   ]
  }
 ],
 "metadata": {
  "kernelspec": {
   "display_name": "Bachelor-Thesis",
   "language": "python",
   "name": "bachelor-thesis"
  },
  "language_info": {
   "codemirror_mode": {
    "name": "ipython",
    "version": 3
   },
   "file_extension": ".py",
   "mimetype": "text/x-python",
   "name": "python",
   "nbconvert_exporter": "python",
   "pygments_lexer": "ipython3",
   "version": "3.6.5"
  }
 },
 "nbformat": 4,
 "nbformat_minor": 2
}
